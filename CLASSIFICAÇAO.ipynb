{
  "nbformat": 4,
  "nbformat_minor": 0,
  "metadata": {
    "colab": {
      "provenance": []
    },
    "kernelspec": {
      "name": "python3",
      "display_name": "Python 3"
    },
    "language_info": {
      "name": "python"
    }
  },
  "cells": [
    {
      "cell_type": "code",
      "execution_count": null,
      "metadata": {
        "colab": {
          "base_uri": "https://localhost:8080/"
        },
        "id": "2Obsa3VzdrAj",
        "outputId": "438cfb7f-cff7-4298-b6ef-69999794b92c"
      },
      "outputs": [
        {
          "output_type": "stream",
          "name": "stdout",
          "text": [
            "Previsão para o novo e-mail: Não Spam\n"
          ]
        }
      ],
      "source": [
        "from sklearn.naive_bayes import GaussianNB\n",
        "\n",
        "# Dados de exemplo\n",
        "X = [[100, 20], [150, 30], [120, 25], [140, 28]]\n",
        "y = ['Não Spam', 'Spam', 'Não Spam', 'Spam']\n",
        "\n",
        "# Treinando o modelo\n",
        "model = GaussianNB()\n",
        "model.fit(X, y)\n",
        "\n",
        "# Previsão para um novo e-mail\n",
        "novo_email = [[130, 22]]\n",
        "resultado = model.predict(novo_email)\n",
        "print(f\"Previsão para o novo e-mail: {resultado[0]}\")\n",
        "\n"
      ]
    },
    {
      "cell_type": "code",
      "source": [
        "# Passo 1: Importar as bibliotecas necessárias\n",
        "import numpy as np\n",
        "from sklearn.model_selection import train_test_split\n",
        "from sklearn.feature_extraction.text import CountVectorizer\n",
        "from sklearn.naive_bayes import MultinomialNB\n",
        "from sklearn.metrics import accuracy_score\n",
        "\n",
        "# Passo 2: Preparar os dados\n",
        "emails = [\n",
        "    \"Oferta imperdível! Ganhe 50% de desconto em todos os produtos!\",\n",
        "    \"Você ganhou um prêmio de R$ 10.000! Clique aqui para resgatar.\",\n",
        "    \"Confira as novas ofertas da loja. Não perca!\",\n",
        "    \"Reunião de equipe amanhã às 10h. Por favor, confirme sua presença.\",\n",
        "    \"Lembrete: pagamento da fatura do cartão de crédito vence amanhã.\"\n",
        "]\n",
        "\n",
        "labels = [1, 1, 1, 0, 0]  # 1 para spam, 0 para não spam\n",
        "\n",
        "# Passo 3: Transformar os dados em uma matriz de contagem de palavras (bag of words)\n",
        "vectorizer = CountVectorizer()\n",
        "X = vectorizer.fit_transform(emails)\n",
        "\n",
        "# Passo 4: Dividir os dados em conjunto de treinamento e conjunto de teste\n",
        "X_train, X_test, y_train, y_test = train_test_split(X, labels, test_size=0.2, random_state=42)\n",
        "\n",
        "# Passo 5: Criar e treinar o modelo\n",
        "model = MultinomialNB()  # Criar o modelo Naive Bayes multinomial\n",
        "model.fit(X_train, y_train)  # Treinar o modelo com os dados de treinamento\n",
        "\n",
        "# Passo 6: Fazer previsões\n",
        "predictions = model.predict(X_test)  # Fazer previsões usando o conjunto de teste\n",
        "\n",
        "# Passo 7: Avaliar a precisão do modelo\n",
        "accuracy = accuracy_score(y_test, predictions)  # Calcular a precisão do modelo\n",
        "print(\"Accuracy:\", accuracy)\n"
      ],
      "metadata": {
        "colab": {
          "base_uri": "https://localhost:8080/"
        },
        "id": "gorIzFlreAWm",
        "outputId": "8034dafc-e67b-4b62-f826-227b4be7b592"
      },
      "execution_count": null,
      "outputs": [
        {
          "output_type": "stream",
          "name": "stdout",
          "text": [
            "Accuracy: 1.0\n"
          ]
        }
      ]
    },
    {
      "cell_type": "code",
      "source": [
        "# Passo 1: Importar as bibliotecas necessárias\n",
        "import numpy as np\n",
        "from sklearn.model_selection import train_test_split\n",
        "from sklearn.feature_extraction.text import CountVectorizer\n",
        "from sklearn.neighbors import KNeighborsClassifier\n",
        "from sklearn.metrics import accuracy_score\n",
        "\n",
        "# Passo 2: Preparar os dados\n",
        "# Suponha que temos um conjunto de dados com e-mails e seus rótulos (spam ou não spam)\n",
        "# Aqui está um exemplo simples de um conjunto de dados fictício:\n",
        "emails = [\n",
        "    \"Oferta imperdível! Ganhe 50% de desconto em todos os produtos!\",\n",
        "    \"Você ganhou um prêmio de R$ 10.000! Clique aqui para resgatar.\",\n",
        "    \"Confira as novas ofertas da loja. Não perca!\",\n",
        "    \"Reunião de equipe amanhã às 10h. Por favor, confirme sua presença.\",\n",
        "    \"Lembrete: pagamento da fatura do cartão de crédito vence amanhã.\"\n",
        "]\n",
        "\n",
        "labels = [1, 1, 1, 0, 0]  # 1 para spam, 0 para não spam\n",
        "\n",
        "# Passo 3: Transformar os dados em uma matriz de contagem de palavras (bag of words)\n",
        "vectorizer = CountVectorizer()\n",
        "X = vectorizer.fit_transform(emails)\n",
        "\n",
        "# Passo 4: Dividir os dados em conjunto de treinamento e conjunto de teste\n",
        "X_train, X_test, y_train, y_test = train_test_split(X, labels, test_size=0.2, random_state=42)\n",
        "\n",
        "# Passo 5: Criar e treinar o modelo KNN\n",
        "model = KNeighborsClassifier(n_neighbors=3)  # Criar o modelo KNN com 3 vizinhos\n",
        "model.fit(X_train, y_train)  # Treinar o modelo com os dados de treinamento\n",
        "\n",
        "# Passo 6: Fazer previsões\n",
        "predictions = model.predict(X_test)  # Fazer previsões usando o conjunto de teste\n",
        "\n",
        "# Passo 7: Avaliar a precisão do modelo\n",
        "accuracy = accuracy_score(y_test, predictions)  # Calcular a precisão do modelo\n",
        "print(\"Accuracy:\", accuracy)\n"
      ],
      "metadata": {
        "colab": {
          "base_uri": "https://localhost:8080/"
        },
        "id": "YgqaKK9Eg1zJ",
        "outputId": "d788d77d-b99c-47cf-dc5e-8d01288c7fa6"
      },
      "execution_count": null,
      "outputs": [
        {
          "output_type": "stream",
          "name": "stdout",
          "text": [
            "Accuracy: 1.0\n"
          ]
        }
      ]
    },
    {
      "cell_type": "code",
      "source": [
        "# Passo 1: Importar as bibliotecas necessárias\n",
        "from sklearn.model_selection import train_test_split\n",
        "from sklearn.feature_extraction.text import CountVectorizer\n",
        "from sklearn.svm import SVC\n",
        "from sklearn.metrics import accuracy_score\n",
        "\n",
        "# Passo 2: Preparar os dados\n",
        "# Suponha que temos um conjunto de dados com e-mails e seus rótulos (spam ou não spam)\n",
        "# Aqui está um exemplo simples de um conjunto de dados fictício:\n",
        "\n",
        "emails = {\n",
        "    \"Oferta imperdível! Ganhe 50% de desconto em todos os produtos!\",\n",
        "    \"Você ganhou um prêmio de R$ 10.000! Clique aqui para resgatar.\",\n",
        "    \"Confira as novas ofertas da loja, Não perca!\",\n",
        "    \"Reunião de equipe amanhã às 10h. Por favor, confirme sua presença.\",\n",
        "    \"Lembrete: pagamento da fatura do cartão de crédito vence amanhã.\",\n",
        "}\n",
        "\n",
        "labels = [1, 1, 1, 0, 0] # 1 para spam, 0 para não spam\n",
        "\n",
        "# Passo 3: Transformar os dados em uma matriz de contagem de palavras (bag of words)\n",
        "vectorizer = CountVectorizer()\n",
        "X = vectorizer.fit_transform(emails)\n",
        "\n",
        "# Passo 4: Dividir os dados em conjuto de treinamento e conjunto de teste\n",
        "X_train, X_test, y_train, y_test, = train_test_split(X, labels, test_size=0.2, random_state=42)\n",
        "\n",
        "# Passo 5: Criar e treinar o modelo SVM\n",
        "model = SVC(kernel='linear') # Criar o modelo SVM com kernel linear\n",
        "model.fit(X_train, y_train) # Treinar o modelo com os dados de treinamento\n",
        "\n",
        "# Passo 6: Fazer previsões\n",
        "predictions = model.predict(X_test) # Fazer previsões usando o conjunto de teste\n",
        "\n",
        "# Passo 7: Avaliar a precisão do modelo\n",
        "accuracy = accuracy_score(y_test, predictions) # Calcular a precisão do modelo\n",
        "print(\"Accuracy:\", accuracy)"
      ],
      "metadata": {
        "colab": {
          "base_uri": "https://localhost:8080/"
        },
        "id": "R8UH99i9g8hC",
        "outputId": "c71d2140-d76a-4ef8-b258-8a0452e35c65"
      },
      "execution_count": null,
      "outputs": [
        {
          "output_type": "stream",
          "name": "stdout",
          "text": [
            "Accuracy: 0.0\n"
          ]
        }
      ]
    },
    {
      "cell_type": "code",
      "source": [
        "# Passo 1: Importar as bibliotecas necessárias\n",
        "from sklearn.model_selection import train_test_split\n",
        "from sklearn.feature_extraction.text import CountVectorizer\n",
        "from sklearn.tree import DecisionTreeClassifier\n",
        "from sklearn.metrics import accuracy_score\n",
        "\n",
        "# Passo 2: Preparar os dados\n",
        "# Suponha que temos um conjunto de dados com e-mails e seus rótulos (spam ou não spam)\n",
        "# Aqui está um exemplo simples de um conjunto de dados fictício:\n",
        "emails = [\n",
        "    \"Oferta imperdível! Ganhe 50% de desconto em todos os produtos!\",\n",
        "    \"Você ganhou um prêmio de R$ 10.000! Clique aqui para resgatar.\",\n",
        "    \"Confira as novas ofertas da loja. Não perca!\",\n",
        "    \"Reunião de equipe amanhã às 10h. Por favor, confirme sua presença.\",\n",
        "    \"Lembrete: pagamento da fatura do cartão de crédito vence amanhã.\"\n",
        "]\n",
        "\n",
        "labels = [1, 1, 1, 0, 0]  # 1 para spam, 0 para não spam\n",
        "\n",
        "# Passo 3: Transformar os dados em uma matriz de contagem de palavras (bag of words)\n",
        "vectorizer = CountVectorizer()\n",
        "X = vectorizer.fit_transform(emails)\n",
        "\n",
        "# Passo 4: Dividir os dados em conjunto de treinamento e conjunto de teste\n",
        "X_train, X_test, y_train, y_test = train_test_split(X, labels, test_size=0.2, random_state=42)\n",
        "\n",
        "# Passo 5: Criar e treinar o modelo de Árvore de Decisão\n",
        "model = DecisionTreeClassifier()  # Criar o modelo de Árvore de Decisão\n",
        "model.fit(X_train, y_train)  # Treinar o modelo com os dados de treinamento\n",
        "\n",
        "# Passo 6: Fazer previsões\n",
        "predictions = model.predict(X_test)  # Fazer previsões usando o conjunto de teste\n",
        "\n",
        "# Passo 7: Avaliar a precisão do modelo\n",
        "accuracy = accuracy_score(y_test, predictions)  # Calcular a precisão do modelo\n",
        "print(\"Accuracy:\", accuracy)\n"
      ],
      "metadata": {
        "colab": {
          "base_uri": "https://localhost:8080/"
        },
        "id": "B7ILM24nlQyp",
        "outputId": "01210cf6-2125-4678-da48-a9517779dd76"
      },
      "execution_count": null,
      "outputs": [
        {
          "output_type": "stream",
          "name": "stdout",
          "text": [
            "Accuracy: 1.0\n"
          ]
        }
      ]
    }
  ]
}